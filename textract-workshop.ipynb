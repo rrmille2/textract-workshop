{
 "cells": [
  {
   "cell_type": "markdown",
   "metadata": {},
   "source": [
    "# Amazon Textract - a fully-managed AI Service for analyzing documents\n",
    "#### A workshop on extracting text from documents\n",
    "\n",
    "## Contents \n",
    "1. [Detect text from local image](#item1)\n",
    "1. [Detect text from S3 object](#item2)\n",
    "1. [Reading order](#item3)\n",
    "1. [Natural Language Processing](#item4)\n",
    "1. [Amazon Translate](#item5)\n",
    "1. [Forms: Key-Value Pairs](#item6)\n",
    "1. [Control and Compliance: Redaction](#item7)\n",
    "1. [Table Validation](#item8)\n",
    "1. [PDF Processing](#item9)"
   ]
  },
  {
   "cell_type": "markdown",
   "metadata": {},
   "source": [
    "Install TRP - the Textract Results Parser  \n",
    "Requires python 3.6 or later  \n",
    "This python library makes it easier to navigate the JSON results from Textract analysis.\n",
    "https://pypi.org/project/textract-trp/"
   ]
  },
  {
   "cell_type": "code",
   "execution_count": null,
   "metadata": {},
   "outputs": [],
   "source": [
    "!pip install textract-trp"
   ]
  },
  {
   "cell_type": "code",
   "execution_count": null,
   "metadata": {},
   "outputs": [],
   "source": [
    "import os\n",
    "import boto3\n",
    "import time\n",
    "from IPython.display import Image, display, IFrame\n",
    "from trp import Document\n",
    "from PIL import Image as PImage, ImageDraw\n",
    "from sagemaker import get_execution_role"
   ]
  },
  {
   "cell_type": "code",
   "execution_count": null,
   "metadata": {},
   "outputs": [],
   "source": [
    "# Curent AWS Region. Use this to choose corresponding S3 bucket with sample content\n",
    "\n",
    "mySession = boto3.session.Session()\n",
    "awsRegion = mySession.region_name\n",
    "\n",
    "print('Region:', awsRegion)\n",
    "print('SageMaker Execution Role:', get_execution_role())"
   ]
  },
  {
   "cell_type": "markdown",
   "metadata": {},
   "source": [
    "## Pause Here\n",
    "#### and add the policy *AmazonTextractFullAccess* to the SageMaker Execution Role (shown above) used by this SageMaker Studio instance <hr>"
   ]
  },
  {
   "cell_type": "markdown",
   "metadata": {},
   "source": [
    "#### S3 bucket that contains sample documents\n",
    "We are providing sample documents in this bucket so you do not have to manually download/upload some of the test documents"
   ]
  },
  {
   "cell_type": "code",
   "execution_count": null,
   "metadata": {},
   "outputs": [],
   "source": [
    "s3BucketName = \"aws-workshops-\" + awsRegion"
   ]
  },
  {
   "cell_type": "code",
   "execution_count": null,
   "metadata": {},
   "outputs": [],
   "source": [
    "# Amazon S3 client\n",
    "s3 = boto3.client('s3')\n",
    "\n",
    "# Amazon Textract client\n",
    "textract = boto3.client('textract')"
   ]
  },
  {
   "cell_type": "markdown",
   "metadata": {},
   "source": [
    "# 1. Detect text from local image <a name=\"item1\"></a>"
   ]
  },
  {
   "cell_type": "markdown",
   "metadata": {},
   "source": [
    "https://docs.aws.amazon.com/textract/latest/dg/API_DetectDocumentText.html"
   ]
  },
  {
   "cell_type": "code",
   "execution_count": null,
   "metadata": {},
   "outputs": [],
   "source": [
    "# Document\n",
    "documentName = \"./data/simple-document-image.jpg\"\n",
    "display(Image(filename=documentName))"
   ]
  },
  {
   "cell_type": "code",
   "execution_count": null,
   "metadata": {},
   "outputs": [],
   "source": [
    "# Read document content\n",
    "with open(documentName, 'rb') as document:\n",
    "    imageBytes = bytearray(document.read())\n",
    "\n",
    "# Call Amazon Textract\n",
    "response = textract.detect_document_text(Document={'Bytes': imageBytes})\n",
    "\n",
    "# Print detected text\n",
    "for item in response[\"Blocks\"]:\n",
    "    if item[\"BlockType\"] == \"LINE\":\n",
    "        print (item[\"Text\"])"
   ]
  },
  {
   "cell_type": "markdown",
   "metadata": {},
   "source": [
    "# 2. Detect text from S3 object <a name=\"item2\"></a>"
   ]
  },
  {
   "cell_type": "markdown",
   "metadata": {},
   "source": [
    "https://docs.aws.amazon.com/textract/latest/dg/API_DetectDocumentText.html"
   ]
  },
  {
   "cell_type": "code",
   "execution_count": null,
   "metadata": {},
   "outputs": [],
   "source": [
    "# Document\n",
    "documentName = \"textract-samples/simple-document-image.jpg\"\n",
    "display(Image(url=s3.generate_presigned_url('get_object', Params={'Bucket': s3BucketName, 'Key': documentName})))"
   ]
  },
  {
   "cell_type": "code",
   "execution_count": null,
   "metadata": {},
   "outputs": [],
   "source": [
    "# Call Amazon Textract\n",
    "response = textract.detect_document_text(\n",
    "    Document={\n",
    "        'S3Object': {\n",
    "            'Bucket': s3BucketName,\n",
    "            'Name': documentName\n",
    "        }\n",
    "    })\n",
    "\n",
    "\n",
    "# Print detected text\n",
    "for item in response[\"Blocks\"]:\n",
    "    if item[\"BlockType\"] == \"LINE\":\n",
    "        print (item[\"Text\"])"
   ]
  },
  {
   "cell_type": "markdown",
   "metadata": {},
   "source": [
    "## Lines and Words of Text - JSON Structure"
   ]
  },
  {
   "cell_type": "markdown",
   "metadata": {},
   "source": [
    "https://docs.aws.amazon.com/textract/latest/dg/API_BoundingBox.html  \n",
    "https://docs.aws.amazon.com/textract/latest/dg/text-location.html  \n",
    "https://docs.aws.amazon.com/textract/latest/dg/how-it-works-lines-words.html  "
   ]
  },
  {
   "cell_type": "code",
   "execution_count": null,
   "metadata": {},
   "outputs": [],
   "source": [
    "# Document\n",
    "documentName = \"./data/OneLine.png\"\n",
    "display(Image(filename=documentName))"
   ]
  },
  {
   "cell_type": "code",
   "execution_count": null,
   "metadata": {},
   "outputs": [],
   "source": [
    "# Read document content\n",
    "with open(documentName, 'rb') as document:\n",
    "    imageBytes = bytearray(document.read())\n",
    "\n",
    "# Call Amazon Textract\n",
    "response = textract.detect_document_text(Document={'Bytes': imageBytes})\n",
    "\n",
    "# Print detected text\n",
    "for item in response[\"Blocks\"]:\n",
    "    if item[\"BlockType\"] == \"LINE\":\n",
    "        print (item[\"Text\"])"
   ]
  },
  {
   "cell_type": "code",
   "execution_count": null,
   "metadata": {
    "scrolled": true
   },
   "outputs": [],
   "source": [
    "print(\"JSON Response\\n===================\")\n",
    "display(response)"
   ]
  },
  {
   "cell_type": "markdown",
   "metadata": {},
   "source": [
    "# 3. Reading order <a name=\"item3\"></a>"
   ]
  },
  {
   "cell_type": "code",
   "execution_count": null,
   "metadata": {},
   "outputs": [],
   "source": [
    "# Document\n",
    "documentName = \"textract-samples/two-column-image.jpg\"\n",
    "display(Image(url=s3.generate_presigned_url('get_object', Params={'Bucket': s3BucketName, 'Key': documentName})))"
   ]
  },
  {
   "cell_type": "code",
   "execution_count": null,
   "metadata": {},
   "outputs": [],
   "source": [
    "# Call Amazon Textract\n",
    "response = textract.detect_document_text(\n",
    "    Document={\n",
    "        'S3Object': {\n",
    "            'Bucket': s3BucketName,\n",
    "            'Name': documentName\n",
    "        }\n",
    "    })"
   ]
  },
  {
   "cell_type": "code",
   "execution_count": null,
   "metadata": {},
   "outputs": [],
   "source": [
    "# Detect columns and print lines\n",
    "columns = []\n",
    "lines = []\n",
    "for item in response[\"Blocks\"]:\n",
    "      if item[\"BlockType\"] == \"LINE\":\n",
    "        column_found=False\n",
    "        for index, column in enumerate(columns):\n",
    "            bbox_left = item[\"Geometry\"][\"BoundingBox\"][\"Left\"]\n",
    "            bbox_right = item[\"Geometry\"][\"BoundingBox\"][\"Left\"] + item[\"Geometry\"][\"BoundingBox\"][\"Width\"]\n",
    "            bbox_centre = item[\"Geometry\"][\"BoundingBox\"][\"Left\"] + item[\"Geometry\"][\"BoundingBox\"][\"Width\"]/2\n",
    "            column_centre = column['left'] + column['right']/2\n",
    "\n",
    "            if (bbox_centre > column['left'] and bbox_centre < column['right']) or (column_centre > bbox_left and column_centre < bbox_right):\n",
    "                #Bbox appears inside the column\n",
    "                lines.append([index, item[\"Text\"]])\n",
    "                column_found=True\n",
    "                break\n",
    "        if not column_found:\n",
    "            columns.append({'left':item[\"Geometry\"][\"BoundingBox\"][\"Left\"], 'right':item[\"Geometry\"][\"BoundingBox\"][\"Left\"] + item[\"Geometry\"][\"BoundingBox\"][\"Width\"]})\n",
    "            lines.append([len(columns)-1, item[\"Text\"]])\n",
    "\n",
    "lines.sort(key=lambda x: x[0])\n",
    "for line in lines:\n",
    "    print (line[1])"
   ]
  },
  {
   "cell_type": "markdown",
   "metadata": {},
   "source": [
    "# 4. Natural Language Processing <a name=\"item4\"></a>"
   ]
  },
  {
   "cell_type": "code",
   "execution_count": null,
   "metadata": {},
   "outputs": [],
   "source": [
    "# Document\n",
    "documentName = \"textract-samples/simple-document-image.jpg\"\n",
    "display(Image(url=s3.generate_presigned_url('get_object', Params={'Bucket': s3BucketName, 'Key': documentName})))"
   ]
  },
  {
   "cell_type": "code",
   "execution_count": null,
   "metadata": {},
   "outputs": [],
   "source": [
    "# Call Amazon Textract\n",
    "response = textract.detect_document_text(\n",
    "    Document={\n",
    "        'S3Object': {\n",
    "            'Bucket': s3BucketName,\n",
    "            'Name': documentName\n",
    "        }\n",
    "    })\n",
    "\n",
    "#print(response)\n",
    "\n",
    "# Print text\n",
    "print(\"\\nText\\n========\")\n",
    "text = \"\"\n",
    "for item in response[\"Blocks\"]:\n",
    "    if item[\"BlockType\"] == \"LINE\":\n",
    "        print ('\\033[94m' +  item[\"Text\"] + '\\033[0m')\n",
    "        text = text + \" \" + item[\"Text\"]\n",
    "\n",
    "# Amazon Comprehend client\n",
    "comprehend = boto3.client('comprehend')\n",
    "\n",
    "# Detect sentiment\n",
    "sentiment =  comprehend.detect_sentiment(LanguageCode=\"en\", Text=text)\n",
    "print (\"\\nSentiment\\n========\\n{}\".format(sentiment.get('Sentiment')))\n",
    "\n",
    "# Detect entities\n",
    "entities =  comprehend.detect_entities(LanguageCode=\"en\", Text=text)\n",
    "print(\"\\nEntities\\n========\")\n",
    "for entity in entities[\"Entities\"]:\n",
    "    print (\"{}\\t=>\\t{}\".format(entity[\"Type\"], entity[\"Text\"]))"
   ]
  },
  {
   "cell_type": "markdown",
   "metadata": {},
   "source": [
    "# 5. Amazon Translate <a name=\"item5\"></a>"
   ]
  },
  {
   "cell_type": "code",
   "execution_count": null,
   "metadata": {},
   "outputs": [],
   "source": [
    "# Document\n",
    "documentName = \"textract-samples/simple-document-image.jpg\"\n",
    "display(Image(url=s3.generate_presigned_url('get_object', Params={'Bucket': s3BucketName, 'Key': documentName})))"
   ]
  },
  {
   "cell_type": "markdown",
   "metadata": {},
   "source": [
    "#### You will see an error when you run this next cell - this is part of the workshop\n",
    "#### How can this error be fixed?"
   ]
  },
  {
   "cell_type": "code",
   "execution_count": null,
   "metadata": {},
   "outputs": [],
   "source": [
    "# Call Amazon Textract\n",
    "response = textract.detect_document_text(\n",
    "    Document={\n",
    "        'S3Object': {\n",
    "            'Bucket': s3BucketName,\n",
    "            'Name': documentName\n",
    "        }\n",
    "    })\n",
    "\n",
    "# Amazon Translate client\n",
    "translate = boto3.client('translate')\n",
    "\n",
    "translation = []\n",
    "\n",
    "print ('Original Language:')\n",
    "for item in response[\"Blocks\"]:\n",
    "    if item[\"BlockType\"] == \"LINE\":\n",
    "        print (item[\"Text\"])\n",
    "        result = translate.translate_text(Text=item[\"Text\"], SourceLanguageCode=\"en\", TargetLanguageCode=\"es\")\n",
    "        translation.append(result.get('TranslatedText'))\n",
    "print ('\\n')\n",
    "\n",
    "print ('Spanish:')\n",
    "\n",
    "for line in translation:\n",
    "    print(line)\n"
   ]
  },
  {
   "cell_type": "markdown",
   "metadata": {},
   "source": [
    "# 6. Forms: Key-Value Pairs <a name=\"item6\"></a>"
   ]
  },
  {
   "cell_type": "markdown",
   "metadata": {},
   "source": [
    "https://docs.aws.amazon.com/textract/latest/dg/API_AnalyzeDocument.html"
   ]
  },
  {
   "cell_type": "code",
   "execution_count": null,
   "metadata": {},
   "outputs": [],
   "source": [
    "# Document\n",
    "documentName = \"textract-samples/employmentapp.png\"\n",
    "display(Image(url=s3.generate_presigned_url('get_object', Params={'Bucket': s3BucketName, 'Key': documentName})))"
   ]
  },
  {
   "cell_type": "code",
   "execution_count": null,
   "metadata": {},
   "outputs": [],
   "source": [
    "# Call Amazon Textract\n",
    "response = textract.analyze_document(\n",
    "    Document={\n",
    "        'S3Object': {\n",
    "            'Bucket': s3BucketName,\n",
    "            'Name': documentName\n",
    "        }\n",
    "    },\n",
    "    FeatureTypes=[\"FORMS\"])\n",
    "\n",
    "doc = Document(response)\n",
    "\n",
    "for page in doc.pages:\n",
    "    # Print fields\n",
    "    print(\"Fields:\")\n",
    "    for field in page.form.fields:\n",
    "        print(\"Key: {}\\nValue: {}\".format(field.key, field.value))\n",
    "\n",
    "    # Get field by key\n",
    "    print(\"\\nGet Field by Key:\")\n",
    "    key = \"Phone Number:\"\n",
    "    field = page.form.getFieldByKey(key)\n",
    "    if(field):\n",
    "        print(\"Key: {}\\nValue: {}\".format(field.key, field.value))\n",
    "\n",
    "    # Search fields by key\n",
    "    print(\"\\nSearch Fields:\")\n",
    "    key = \"address\"\n",
    "    fields = page.form.searchFieldsByKey(key)\n",
    "    for field in fields:\n",
    "        print(\"Key: {}\\nValue: {}\".format(field.key, field.value))"
   ]
  },
  {
   "cell_type": "markdown",
   "metadata": {},
   "source": [
    "#### Form Data (Key-Value Pairs) JSON Structure"
   ]
  },
  {
   "cell_type": "markdown",
   "metadata": {},
   "source": [
    "https://docs.aws.amazon.com/textract/latest/dg/how-it-works-kvp.html  \n",
    "https://docs.aws.amazon.com/textract/latest/dg/how-it-works-selectables.html\n"
   ]
  },
  {
   "cell_type": "code",
   "execution_count": null,
   "metadata": {},
   "outputs": [],
   "source": [
    "# Document\n",
    "documentName = \"./data/OneKeyValue.png\"\n",
    "display(Image(filename=documentName))"
   ]
  },
  {
   "cell_type": "code",
   "execution_count": null,
   "metadata": {},
   "outputs": [],
   "source": [
    "# Read document content\n",
    "with open(documentName, 'rb') as document:\n",
    "    imageBytes = bytearray(document.read())\n",
    "\n",
    "# Call Amazon Textract\n",
    "response = textract.analyze_document(Document={'Bytes': imageBytes}, FeatureTypes=[\"FORMS\"])\n",
    "\n",
    "doc = Document(response)\n",
    "\n",
    "for page in doc.pages:\n",
    "    # Print fields\n",
    "    print(\"Fields:\")\n",
    "    for field in page.form.fields:\n",
    "        print(\"Key: {}\\nValue: {}\".format(field.key, field.value))"
   ]
  },
  {
   "cell_type": "code",
   "execution_count": null,
   "metadata": {
    "scrolled": true
   },
   "outputs": [],
   "source": [
    "print(\"JSON Response\\n===================\")\n",
    "print(response)"
   ]
  },
  {
   "cell_type": "markdown",
   "metadata": {},
   "source": [
    "# 7. Control and Compliance: Redaction <a name=\"item7\"></a>"
   ]
  },
  {
   "cell_type": "markdown",
   "metadata": {},
   "source": [
    "https://github.com/aws-samples/amazon-textract-response-parser  \n",
    "https://github.com/aws-samples/amazon-textract-response-parser/blob/master/src-python/trp.py  "
   ]
  },
  {
   "cell_type": "code",
   "execution_count": null,
   "metadata": {},
   "outputs": [],
   "source": [
    "# Document\n",
    "documentName = \"./data/employmentapp.png\"\n",
    "display(Image(filename=documentName))"
   ]
  },
  {
   "cell_type": "code",
   "execution_count": null,
   "metadata": {},
   "outputs": [],
   "source": [
    "# Call Amazon Textract\n",
    "with open(documentName, 'rb') as document:\n",
    "    imageBytes = bytearray(document.read())\n",
    "\n",
    "# Call Amazon Textract\n",
    "response = textract.analyze_document(Document={'Bytes': imageBytes}, FeatureTypes=[\"FORMS\"])\n",
    "\n",
    "#print(response)\n",
    "\n",
    "doc = Document(response)\n",
    "\n",
    "# Redact document\n",
    "img = PImage.open(documentName)\n",
    "\n",
    "width, height = img.size\n",
    "\n",
    "if(doc.pages):\n",
    "    page = doc.pages[0]\n",
    "    for field in page.form.fields:\n",
    "        if(field.key and field.value and \"address\" in field.key.text.lower()):\n",
    "            print(\"Redacting => Key: {}, Value: {}\".format(field.key.text, field.value.text))\n",
    "            \n",
    "            x1 = field.value.geometry.boundingBox.left*width\n",
    "            y1 = field.value.geometry.boundingBox.top*height-2\n",
    "            x2 = x1 + (field.value.geometry.boundingBox.width*width)+5\n",
    "            y2 = y1 + (field.value.geometry.boundingBox.height*height)+2\n",
    "\n",
    "            draw = ImageDraw.Draw(img)\n",
    "            draw.rectangle([x1, y1, x2, y2], fill=\"Black\")\n",
    "\n",
    "outputDocumentName = \"./data/redacted-{}\".format(os.path.basename(documentName))\n",
    "img.save(outputDocumentName)\n",
    "display(Image(filename=outputDocumentName))"
   ]
  },
  {
   "cell_type": "markdown",
   "metadata": {},
   "source": [
    "# 9. Tables"
   ]
  },
  {
   "cell_type": "code",
   "execution_count": null,
   "metadata": {},
   "outputs": [],
   "source": [
    "# Document\n",
    "documentName = \"textract-samples/employmentapp.png\"\n",
    "display(Image(url=s3.generate_presigned_url('get_object', Params={'Bucket': s3BucketName, 'Key': documentName})))"
   ]
  },
  {
   "cell_type": "code",
   "execution_count": null,
   "metadata": {},
   "outputs": [],
   "source": [
    "# Call Amazon Textract\n",
    "response = textract.analyze_document(\n",
    "    Document={\n",
    "        'S3Object': {\n",
    "            'Bucket': s3BucketName,\n",
    "            'Name': documentName\n",
    "        }\n",
    "    },\n",
    "    FeatureTypes=[\"TABLES\"])\n",
    "\n",
    "#print(response)\n",
    "\n",
    "doc = Document(response)\n",
    "\n",
    "for page in doc.pages:\n",
    "     # Print tables\n",
    "    for table in page.tables:\n",
    "        for r, row in enumerate(table.rows):\n",
    "            for c, cell in enumerate(row.cells):\n",
    "                print(\"Table[{}][{}] = {}\".format(r, c, cell.text))"
   ]
  },
  {
   "cell_type": "markdown",
   "metadata": {},
   "source": [
    "#### Table JSON Structure\n",
    "How it works"
   ]
  },
  {
   "cell_type": "markdown",
   "metadata": {},
   "source": [
    "https://docs.aws.amazon.com/textract/latest/dg/how-it-works-tables.html"
   ]
  },
  {
   "cell_type": "code",
   "execution_count": null,
   "metadata": {
    "scrolled": true
   },
   "outputs": [],
   "source": [
    "print(response)"
   ]
  },
  {
   "cell_type": "markdown",
   "metadata": {},
   "source": [
    "# 8. Table Data Validation <a name=\"item8\"></a>"
   ]
  },
  {
   "cell_type": "code",
   "execution_count": null,
   "metadata": {},
   "outputs": [],
   "source": [
    "# Document\n",
    "documentName = \"textract-samples/expense.png\"\n",
    "display(Image(url=s3.generate_presigned_url('get_object', Params={'Bucket': s3BucketName, 'Key': documentName})))"
   ]
  },
  {
   "cell_type": "code",
   "execution_count": null,
   "metadata": {},
   "outputs": [],
   "source": [
    "# Call Amazon Textract\n",
    "response = textract.analyze_document(\n",
    "    Document={\n",
    "        'S3Object': {\n",
    "            'Bucket': s3BucketName,\n",
    "            'Name': documentName\n",
    "        }\n",
    "    },\n",
    "    FeatureTypes=[\"TABLES\"])"
   ]
  },
  {
   "cell_type": "code",
   "execution_count": null,
   "metadata": {
    "scrolled": true
   },
   "outputs": [],
   "source": [
    "# use json.dumps(response, indent=4) to print out a python dictionary in a nice readable format\n",
    "print(response)"
   ]
  },
  {
   "cell_type": "code",
   "execution_count": null,
   "metadata": {},
   "outputs": [],
   "source": [
    "doc = Document(response)\n",
    "\n",
    "def isFloat(input):\n",
    "  try:\n",
    "    float(input)\n",
    "  except ValueError:\n",
    "    return False\n",
    "  return True\n",
    "\n",
    "warning = \"\"\n",
    "for page in doc.pages:\n",
    "     # Print tables\n",
    "    for table in page.tables:\n",
    "        for r, row in enumerate(table.rows):\n",
    "            itemName  = \"\"\n",
    "            for c, cell in enumerate(row.cells):\n",
    "                print(\"Table[{}][{}] = {}\".format(r, c, cell.text))\n",
    "                if(c == 0):\n",
    "                    itemName = cell.text\n",
    "                elif(c == 4 and isFloat(cell.text) and itemName != 'Total'):\n",
    "                    value = float(cell.text)\n",
    "                    if(value == 1500):\n",
    "                        print(cell.text)\n",
    "                        warning = \"{} is greater than $1000.\".format(itemName)\n",
    "if(warning):\n",
    "    print(\"\\nReview needed:\\n====================\\n\" + warning)"
   ]
  },
  {
   "cell_type": "markdown",
   "metadata": {},
   "source": [
    "# 9. PDF Processing <a name=\"item9\"></a>"
   ]
  },
  {
   "cell_type": "markdown",
   "metadata": {},
   "source": [
    "https://docs.aws.amazon.com/textract/latest/dg/API_StartDocumentTextDetection.html  \n",
    "https://docs.aws.amazon.com/textract/latest/dg/API_GetDocumentTextDetection.html  \n",
    "https://docs.aws.amazon.com/textract/latest/dg/API_StartDocumentAnalysis.html  \n",
    "https://docs.aws.amazon.com/textract/latest/dg/API_GetDocumentAnalysis.html  "
   ]
  },
  {
   "cell_type": "code",
   "execution_count": null,
   "metadata": {},
   "outputs": [],
   "source": [
    "def startJob(s3BucketName, objectName):\n",
    "    response = None\n",
    "    response = textract.start_document_text_detection(\n",
    "    DocumentLocation={\n",
    "        'S3Object': {\n",
    "            'Bucket': s3BucketName,\n",
    "            'Name': objectName\n",
    "        }\n",
    "    })\n",
    "\n",
    "    return response[\"JobId\"]\n",
    "\n",
    "def isJobComplete(jobId):\n",
    "    response = textract.get_document_text_detection(JobId=jobId)\n",
    "    status = response[\"JobStatus\"]\n",
    "    print(\"Job status: {}\".format(status))\n",
    "\n",
    "    while(status == \"IN_PROGRESS\"):\n",
    "        time.sleep(5)\n",
    "        response = textract.get_document_text_detection(JobId=jobId)\n",
    "        status = response[\"JobStatus\"]\n",
    "        print(\"Job status: {}\".format(status))\n",
    "\n",
    "    return status\n",
    "\n",
    "def getJobResults(jobId):\n",
    "\n",
    "    pages = []\n",
    "    response = textract.get_document_text_detection(JobId=jobId)\n",
    "    \n",
    "    pages.append(response)\n",
    "    print(\"Resultset page recieved: {}\".format(len(pages)))\n",
    "    nextToken = None\n",
    "    if('NextToken' in response):\n",
    "        nextToken = response['NextToken']\n",
    "\n",
    "    while(nextToken):\n",
    "        response = textract.get_document_text_detection(JobId=jobId, NextToken=nextToken)\n",
    "\n",
    "        pages.append(response)\n",
    "        print(\"Resultset page recieved: {}\".format(len(pages)))\n",
    "        nextToken = None\n",
    "        if('NextToken' in response):\n",
    "            nextToken = response['NextToken']\n",
    "\n",
    "    return pages"
   ]
  },
  {
   "cell_type": "code",
   "execution_count": null,
   "metadata": {},
   "outputs": [],
   "source": [
    "# Document\n",
    "documentName = \"textract-samples/Amazon-Textract-Pdf.pdf\"\n",
    "IFrame(s3.generate_presigned_url('get_object', Params={'Bucket': s3BucketName, 'Key': documentName}), 900, 400)"
   ]
  },
  {
   "cell_type": "code",
   "execution_count": null,
   "metadata": {},
   "outputs": [],
   "source": [
    "jobId = startJob(s3BucketName, documentName)\n",
    "print(\"Started job with id: {}\".format(jobId))\n",
    "if(isJobComplete(jobId)):\n",
    "    response = getJobResults(jobId)\n",
    "\n",
    "# Print detected text\n",
    "print('')\n",
    "for resultPage in response:\n",
    "    for item in resultPage[\"Blocks\"]:\n",
    "        if item[\"BlockType\"] == \"LINE\":\n",
    "            print (item[\"Text\"])"
   ]
  },
  {
   "cell_type": "code",
   "execution_count": null,
   "metadata": {},
   "outputs": [],
   "source": []
  },
  {
   "cell_type": "markdown",
   "metadata": {},
   "source": [
    "## GitHub repo with samples in other languages"
   ]
  },
  {
   "cell_type": "markdown",
   "metadata": {},
   "source": [
    "https://github.com/aws-samples/amazon-textract-code-samples  "
   ]
  },
  {
   "cell_type": "code",
   "execution_count": null,
   "metadata": {},
   "outputs": [],
   "source": []
  }
 ],
 "metadata": {
  "kernelspec": {
   "display_name": "Python 3 (Data Science)",
   "language": "python",
   "name": "python3__SAGEMAKER_INTERNAL__arn:aws:sagemaker:us-east-1:081325390199:image/datascience-1.0"
  },
  "language_info": {
   "codemirror_mode": {
    "name": "ipython",
    "version": 3
   },
   "file_extension": ".py",
   "mimetype": "text/x-python",
   "name": "python",
   "nbconvert_exporter": "python",
   "pygments_lexer": "ipython3",
   "version": "3.7.10"
  }
 },
 "nbformat": 4,
 "nbformat_minor": 4
}
